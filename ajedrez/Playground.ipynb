{
 "cells": [
  {
   "cell_type": "code",
   "execution_count": null,
   "metadata": {},
   "outputs": [],
   "source": [
    "from Ajedrez import Ajedrez,train\n",
    "from SplitImageDataset import SplitImageDataset\n",
    "from WholeImageDataset import WholeImageDataset\n",
    "\n",
    "import chess\n",
    "\n",
    "import numpy as np\n",
    "import torch\n",
    "from torch import nn\n",
    "from torch import optim\n",
    "import matplotlib.pyplot as plt\n",
    "import math\n",
    "import time\n",
    "import random\n",
    "\n",
    "import torch.optim\n",
    "from tqdm.notebook import tqdm\n",
    "\n",
    "import DataUtils\n",
    "\n",
    "import sys\n",
    "sys.path.append(\"../engines\")\n",
    "\n",
    "from ChessEngine import ChessEngine\n",
    "\n",
    "from torchvision import transforms, utils\n",
    "from torch.utils.data import Dataset, DataLoader, random_split\n",
    "\n",
    "%load_ext autoreload\n",
    "%autoreload 2"
   ]
  },
  {
   "cell_type": "markdown",
   "metadata": {},
   "source": [
    "## Visualizing Data"
   ]
  },
  {
   "cell_type": "markdown",
   "metadata": {},
   "source": [
    "## Training AJ"
   ]
  },
  {
   "cell_type": "code",
   "execution_count": null,
   "metadata": {},
   "outputs": [],
   "source": [
    "device = torch.device(\"cuda\" if torch.cuda.is_available() else \"cpu\")\n",
    "\n",
    "AJ = Ajedrez(3, continue_training=True).to(device)"
   ]
  },
  {
   "cell_type": "code",
   "execution_count": null,
   "metadata": {
    "scrolled": false
   },
   "outputs": [],
   "source": [
    "color_transforms = transforms.Compose([\n",
    "    transforms.Resize((224, 224)),\n",
    "    transforms.ToTensor(),\n",
    "    transforms.Normalize(mean=[0.485, 0.456, 0.406],\n",
    "                         std=[0.229, 0.224, 0.225])\n",
    "])\n",
    "depth_transforms = transforms.Compose([\n",
    "    transforms.Resize((224, 224)),\n",
    "    transforms.ToTensor(),\n",
    "    transforms.Normalize(mean=0, std=1)\n",
    "])\n",
    "\n",
    "FULL_SIZE = 242_000\n",
    "TRAIN_SIZE = 169_400\n",
    "TEST_SIZE = 72_600\n",
    "\n",
    "dset = SplitImageDataset('./image_dataset/metadata.csv',\n",
    "    dataset_size=1100,\n",
    "    use_depth=False,\n",
    "    color_transform=color_transforms, \n",
    "    depth_transform=depth_transforms,\n",
    ")\n",
    "\n",
    "train_data, test_data = random_split(dset, [1_000, 100])\n",
    "\n",
    "train_loader = DataLoader(train_data, batch_size=20, \n",
    "                          shuffle=True, num_workers=2)\n",
    "test_loader = DataLoader(test_data, batch_size=20, \n",
    "                         shuffle=False, num_workers=2)\n",
    "\n",
    "sgd = optim.SGD(AJ.parameters(), lr=0.001, momentum=0.9)\n",
    "scheduler = optim.lr_scheduler.StepLR(sgd, step_size=2, gamma=0.1)\n",
    "\n",
    "train(AJ, train_loader, test_loader, sgd, scheduler, device, 4)\n",
    "\n",
    "torch.save(AJ.state_dict(), './aj_model.pt')\n",
    "\n",
    "torch.cuda.empty_cache()"
   ]
  },
  {
   "cell_type": "markdown",
   "metadata": {},
   "source": [
    "## Visual Test of AJ"
   ]
  },
  {
   "cell_type": "code",
   "execution_count": null,
   "metadata": {},
   "outputs": [],
   "source": [
    "device = torch.device(\"cuda\" if torch.cuda.is_available() else \"cpu\")\n",
    "\n",
    "AJ = Ajedrez(3, continue_training=False).to(device)"
   ]
  },
  {
   "cell_type": "code",
   "execution_count": null,
   "metadata": {
    "scrolled": false
   },
   "outputs": [],
   "source": [
    "color_transforms = transforms.Compose([\n",
    "    transforms.Resize((224, 224)),\n",
    "    transforms.ToTensor(),\n",
    "    transforms.Normalize(mean=[0.485, 0.456, 0.406],\n",
    "                         std=[0.229, 0.224, 0.225])\n",
    "])\n",
    "\n",
    "print(f'Retrieving One Item')\n",
    "\n",
    "dset_full = WholeImageDataset('./image_dataset/metadata.csv',\n",
    "    color_transform=color_transforms,\n",
    "    dataset_size=10\n",
    ")\n",
    "\n",
    "color_img, concat_img = dset_full[0] \n",
    "\n",
    "plt.figure(figsize=(15,15))\n",
    "plt.axis('off')\n",
    "plt.imshow(color_img)\n",
    "\n",
    "AJ.load_state_dict(torch.load('./aj_model.pt'))\n",
    "AJ.eval()\n",
    "\n",
    "concat_img = concat_img.to(device)    \n",
    "out_c = AJ.forward(concat_img)\n",
    "\n",
    "classes = out_c.argmax(1)\n",
    "\n",
    "print(classes)\n",
    "print(classes.shape)\n",
    "\n",
    "board = chess.Board(None)\n",
    "\n",
    "nrow = 8\n",
    "ncol = 8\n",
    "\n",
    "for i in range(nrow):\n",
    "    for j in range(ncol):\n",
    "        rank = chess.RANK_NAMES[7 - i]\n",
    "        file = chess.FILE_NAMES[j]\n",
    "        \n",
    "        square = chess.parse_square(file + rank)\n",
    "        \n",
    "        piece = ChessEngine.numberToPiece(classes[i*ncol+j].item())\n",
    "        \n",
    "        if piece is not None:\n",
    "            board.set_piece_at(square, piece)\n",
    "            \n",
    "board"
   ]
  }
 ],
 "metadata": {
  "kernelspec": {
   "display_name": "Python 3",
   "language": "python",
   "name": "python3"
  },
  "language_info": {
   "codemirror_mode": {
    "name": "ipython",
    "version": 3
   },
   "file_extension": ".py",
   "mimetype": "text/x-python",
   "name": "python",
   "nbconvert_exporter": "python",
   "pygments_lexer": "ipython3",
   "version": "3.8.5"
  }
 },
 "nbformat": 4,
 "nbformat_minor": 4
}
