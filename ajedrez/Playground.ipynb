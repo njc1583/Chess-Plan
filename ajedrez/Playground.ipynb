{
 "cells": [
  {
   "cell_type": "code",
   "execution_count": 2,
   "metadata": {},
   "outputs": [],
   "source": [
    "from Ajedrez import Ajedrez,train\n",
    "from SplitImageDataset import SplitImageDataset\n",
    "from WholeImageDataset import WholeImageDataset\n",
    "\n",
    "import chess\n",
    "\n",
    "import numpy as np\n",
    "import torch\n",
    "from torch import nn\n",
    "from torch import optim\n",
    "import matplotlib.pyplot as plt\n",
    "import math\n",
    "import time\n",
    "import random\n",
    "\n",
    "import torch.optim\n",
    "from tqdm.notebook import tqdm\n",
    "\n",
    "import DataUtils\n",
    "\n",
    "import sys\n",
    "sys.path.append(\"../engines\")\n",
    "\n",
    "from ChessEngine import ChessEngine\n",
    "\n",
    "from torchvision import transforms, utils\n",
    "from torch.utils.data import Dataset, DataLoader, random_split\n",
    "\n",
    "from PIL import Image\n",
    "from skimage import io\n",
    "\n",
    "from sklearn.metrics import confusion_matrix\n",
    "\n",
    "import seaborn as sns\n",
    "\n",
    "%load_ext autoreload\n",
    "%autoreload 2"
   ]
  },
  {
   "cell_type": "markdown",
   "metadata": {},
   "source": [
    "## Visualizing Data"
   ]
  },
  {
   "cell_type": "markdown",
   "metadata": {},
   "source": [
    "## Training AJ"
   ]
  },
  {
   "cell_type": "code",
   "execution_count": null,
   "metadata": {},
   "outputs": [],
   "source": [
    "device = torch.device(\"cuda\" if torch.cuda.is_available() else \"cpu\")\n",
    "\n",
    "AJ = Ajedrez(3, continue_training=True).to(device)"
   ]
  },
  {
   "cell_type": "code",
   "execution_count": null,
   "metadata": {
    "scrolled": false
   },
   "outputs": [],
   "source": [
    "color_transforms = transforms.Compose([\n",
    "    transforms.Resize((224, 224)),\n",
    "    transforms.ToTensor(),\n",
    "    transforms.Normalize(mean=[0.485, 0.456, 0.406],\n",
    "                         std=[0.229, 0.224, 0.225])\n",
    "])\n",
    "depth_transforms = transforms.Compose([\n",
    "    transforms.Resize((224, 224)),\n",
    "    transforms.ToTensor(),\n",
    "    transforms.Normalize(mean=0, std=1)\n",
    "])\n",
    "\n",
    "# DATA_SIZE = 55_000\n",
    "# TRAIN_SIZE = 38_500\n",
    "# TEST_SIZE = 16_500\n",
    "\n",
    "DATA_SIZE = 11_000\n",
    "TRAIN_SIZE = 8_000\n",
    "TEST_SIZE = 3_000\n",
    "\n",
    "dset = SplitImageDataset('./image_dataset/metadata.csv',\n",
    "    dataset_size=DATA_SIZE,\n",
    "    use_depth=False,\n",
    "    color_transform=color_transforms, \n",
    "    depth_transform=depth_transforms,\n",
    ")\n",
    "\n",
    "train_data, test_data = random_split(dset, [TRAIN_SIZE, TEST_SIZE])\n",
    "\n",
    "train_loader = DataLoader(train_data, batch_size=20, \n",
    "                          shuffle=True, num_workers=2)\n",
    "test_loader = DataLoader(test_data, batch_size=20, \n",
    "                         shuffle=False, num_workers=2)\n",
    "\n",
    "sgd = optim.SGD(AJ.parameters(), lr=0.001, momentum=0.9)\n",
    "scheduler = optim.lr_scheduler.StepLR(sgd, step_size=2, gamma=0.1)\n",
    "\n",
    "NUM_EPOCHS = 1\n",
    "\n",
    "train_loss, test_loss = train(AJ, train_loader, \n",
    "                              test_loader, sgd, \n",
    "                              scheduler, device, NUM_EPOCHS)\n",
    "\n",
    "# torch.save(AJ.state_dict(), './aj_model.pt')\n",
    "# torch.cuda.empty_cache()"
   ]
  },
  {
   "cell_type": "code",
   "execution_count": null,
   "metadata": {},
   "outputs": [],
   "source": [
    "fig = plt.figure()\n",
    "\n",
    "ax1 = fig.add_subplot(111)\n",
    "ax2 = ax1.twiny()\n",
    "\n",
    "ax1.plot(train_loss[0], train_loss[1], 'r', linewidth=1)\n",
    "ax1.set_xlabel(\"Steps in Training\")\n",
    "\n",
    "ax2.plot(test_loss[0], test_loss[1], 'g', linewidth=2)\n",
    "ax2.set_xlabel(\"Epochs in Testing\")\n",
    "ax2.set_xticks(np.arange(NUM_EPOCHS+1))\n",
    "\n",
    "plt.show()"
   ]
  },
  {
   "cell_type": "markdown",
   "metadata": {},
   "source": [
    "## Visual Test of AJ"
   ]
  },
  {
   "cell_type": "code",
   "execution_count": null,
   "metadata": {},
   "outputs": [],
   "source": [
    "device = torch.device(\"cuda\" if torch.cuda.is_available() else \"cpu\")\n",
    "\n",
    "AJ = Ajedrez(3, continue_training=False).to(device)"
   ]
  },
  {
   "cell_type": "code",
   "execution_count": null,
   "metadata": {
    "scrolled": false
   },
   "outputs": [],
   "source": [
    "color_transforms = transforms.Compose([\n",
    "    transforms.Resize((224, 224)),\n",
    "    transforms.ToTensor(),\n",
    "    transforms.Normalize(mean=[0.485, 0.456, 0.406],\n",
    "                         std=[0.229, 0.224, 0.225])\n",
    "])\n",
    "\n",
    "print(f'Retrieving One Item')\n",
    "\n",
    "dset_full = WholeImageDataset('./image_dataset/metadata.csv',\n",
    "    color_transform=color_transforms,\n",
    "    dataset_size=1100\n",
    ")\n",
    "\n",
    "color_img, concat_img = dset_full[0] \n",
    "\n",
    "plt.figure(figsize=(15,15))\n",
    "plt.axis('off')\n",
    "plt.imshow(color_img)\n",
    "\n",
    "AJ.load_state_dict(torch.load('./aj_model.pt'))\n",
    "AJ.eval()\n",
    "\n",
    "concat_img = concat_img.to(device)    \n",
    "out_c = AJ.forward(concat_img)\n",
    "\n",
    "classes = out_c.argmax(1)\n",
    "\n",
    "print(classes)\n",
    "print(classes.shape)\n",
    "\n",
    "board = chess.Board(None)\n",
    "\n",
    "nrow = 8\n",
    "ncol = 8\n",
    "\n",
    "for i in range(nrow):\n",
    "    for j in range(ncol):\n",
    "        rank = chess.RANK_NAMES[7 - i]\n",
    "        file = chess.FILE_NAMES[j]\n",
    "        \n",
    "        square = chess.parse_square(file + rank)\n",
    "        \n",
    "        piece = ChessEngine.numberToPiece(classes[i*ncol+j].item())\n",
    "        \n",
    "        if piece is not None:\n",
    "            board.set_piece_at(square, piece)\n",
    "            \n",
    "board"
   ]
  },
  {
   "cell_type": "markdown",
   "metadata": {},
   "source": [
    "### Split Image Directly"
   ]
  },
  {
   "cell_type": "code",
   "execution_count": null,
   "metadata": {},
   "outputs": [],
   "source": [
    "device = torch.device(\"cuda\" if torch.cuda.is_available() else \"cpu\")\n",
    "\n",
    "AJ = Ajedrez(3, continue_training=False).to(device)\n",
    "\n",
    "AJ.load_state_dict(torch.load('./aj_model.pt'))\n",
    "AJ.eval()\n",
    "\n",
    "print('Done!')"
   ]
  },
  {
   "cell_type": "code",
   "execution_count": null,
   "metadata": {},
   "outputs": [],
   "source": [
    "color_transforms = transforms.Compose([\n",
    "    transforms.Resize((224, 224)),\n",
    "    transforms.ToTensor(),\n",
    "    transforms.Normalize(mean=[0.485, 0.456, 0.406],\n",
    "                         std=[0.229, 0.224, 0.225])\n",
    "])\n",
    "\n",
    "img = io.imread('image_dataset/rectified/000000.png')\n",
    "\n",
    "concat_img = DataUtils.split_image_pytorch(img, color_transforms).to(device)\n",
    "\n",
    "out_c = AJ.forward(concat_img)\n",
    "\n",
    "classes = out_c.argmax(1)\n",
    "\n",
    "board = chess.Board(None)\n",
    "\n",
    "nrow = 8\n",
    "ncol = 8\n",
    "\n",
    "for i in range(nrow):\n",
    "    for j in range(ncol):\n",
    "        rank = chess.RANK_NAMES[7 - i]\n",
    "        file = chess.FILE_NAMES[j]\n",
    "        \n",
    "        square = chess.parse_square(file + rank)\n",
    "        \n",
    "        piece = ChessEngine.numberToPiece(classes[i*ncol+j].item())\n",
    "        \n",
    "        if piece is not None:\n",
    "            board.set_piece_at(square, piece)\n",
    "            \n",
    "board"
   ]
  },
  {
   "cell_type": "markdown",
   "metadata": {},
   "source": [
    "### Build Confusion Matrix"
   ]
  },
  {
   "cell_type": "code",
   "execution_count": 3,
   "metadata": {},
   "outputs": [
    {
     "name": "stdout",
     "output_type": "stream",
     "text": [
      "Done!\n"
     ]
    }
   ],
   "source": [
    "device = torch.device(\"cuda\" if torch.cuda.is_available() else \"cpu\")\n",
    "\n",
    "AJ = Ajedrez(3, continue_training=False).to(device)\n",
    "\n",
    "AJ.load_state_dict(torch.load('./aj_model.pt'))\n",
    "AJ.eval()\n",
    "\n",
    "print('Done!')"
   ]
  },
  {
   "cell_type": "code",
   "execution_count": 5,
   "metadata": {},
   "outputs": [
    {
     "data": {
      "application/vnd.jupyter.widget-view+json": {
       "model_id": "9ef00723d47b44d981f4b8456fba9e97",
       "version_major": 2,
       "version_minor": 0
      },
      "text/plain": [
       "HBox(children=(HTML(value=''), FloatProgress(value=0.0, max=550.0), HTML(value='')))"
      ]
     },
     "metadata": {},
     "output_type": "display_data"
    },
    {
     "name": "stdout",
     "output_type": "stream",
     "text": [
      "\n"
     ]
    }
   ],
   "source": [
    "ALL_LABELS = np.arange(13).astype(np.uint8)\n",
    "\n",
    "color_transforms = transforms.Compose([\n",
    "    transforms.Resize((224, 224)),\n",
    "    transforms.ToTensor(),\n",
    "    transforms.Normalize(mean=[0.485, 0.456, 0.406],\n",
    "                         std=[0.229, 0.224, 0.225])\n",
    "])\n",
    "depth_transforms = transforms.Compose([\n",
    "    transforms.Resize((224, 224)),\n",
    "    transforms.ToTensor(),\n",
    "    transforms.Normalize(mean=0, std=1)\n",
    "])\n",
    "\n",
    "DATA_SIZE = 11_000\n",
    "\n",
    "dset = SplitImageDataset('./image_dataset/metadata.csv',\n",
    "    dataset_size=DATA_SIZE,\n",
    "    use_depth=False,\n",
    "    color_transform=color_transforms, \n",
    "    depth_transform=depth_transforms,\n",
    ")\n",
    "\n",
    "data_loader = DataLoader(dset, batch_size=20, \n",
    "                         shuffle=False, num_workers=2)\n",
    "\n",
    "c_matrix = None\n",
    "\n",
    "for imgs,labels in tqdm(data_loader):\n",
    "    imgs = imgs.to(device)\n",
    "    \n",
    "    preds = AJ.forward(imgs).argmax(1).cpu().numpy()\n",
    "    \n",
    "    if c_matrix is None:\n",
    "        c_matrix = confusion_matrix(y_true=labels.numpy(), \n",
    "                                    y_pred=preds, labels=ALL_LABELS)\n",
    "    else:\n",
    "        c_matrix += confusion_matrix(y_true=labels.numpy(), \n",
    "                                     y_pred=preds, labels=ALL_LABELS)"
   ]
  },
  {
   "cell_type": "code",
   "execution_count": 6,
   "metadata": {},
   "outputs": [
    {
     "data": {
      "text/plain": [
       "array([[ 997,    0,    0,    0,    0,    0,    0,    0,    1,    0,    0,\n",
       "           2,    0],\n",
       "       [   0,  998,    0,    0,    0,    0,    1,    0,    0,    0,    0,\n",
       "           1,    0],\n",
       "       [   0,    0,  998,    0,    0,    0,    0,    0,    1,    0,    0,\n",
       "           1,    0],\n",
       "       [   0,    0,    0,  998,    0,    1,    0,    0,    1,    0,    0,\n",
       "           0,    0],\n",
       "       [   0,    0,    0,    1,  999,    0,    0,    0,    0,    0,    0,\n",
       "           0,    0],\n",
       "       [   0,    0,    0,    0,    0,  499,    1,    0,    0,    0,    0,\n",
       "           0,    0],\n",
       "       [   0,    0,    0,    0,    0,   37,  462,    0,    0,    0,    0,\n",
       "           0,    1],\n",
       "       [   0,    0,    0,    0,    0,    0,    0,  999,    1,    0,    0,\n",
       "           0,    0],\n",
       "       [   0,    0,    0,    0,    0,    2,    0,    0,  998,    0,    0,\n",
       "           0,    0],\n",
       "       [   0,    0,    0,    0,    0,    0,    0,    0,    0,  999,    0,\n",
       "           1,    0],\n",
       "       [   0,    0,    0,    0,    0,    0,    0,    0,    0,    0, 1000,\n",
       "           0,    0],\n",
       "       [   0,    0,    0,    0,    0,    0,    0,    0,    0,    0,    0,\n",
       "         493,    7],\n",
       "       [   0,    0,    0,    0,    0,    0,    0,    0,    0,    0,    0,\n",
       "          27,  473]], dtype=int64)"
      ]
     },
     "execution_count": 6,
     "metadata": {},
     "output_type": "execute_result"
    }
   ],
   "source": [
    "c_matrix"
   ]
  },
  {
   "cell_type": "code",
   "execution_count": 19,
   "metadata": {},
   "outputs": [
    {
     "data": {
      "text/plain": [
       "<AxesSubplot:>"
      ]
     },
     "execution_count": 19,
     "metadata": {},
     "output_type": "execute_result"
    },
    {
     "data": {
      "image/png": "[encoded data removed]",
      "text/plain": [
       "<Figure size 864x864 with 2 Axes>"
      ]
     },
     "metadata": {
      "needs_background": "light"
     },
     "output_type": "display_data"
    }
   ],
   "source": [
    "piece_labels = ['Empty', \n",
    "                'W Pawn', 'W Knight', 'W Bishop', 'W Rook', 'W Queen', 'W King', \n",
    "                'B Pawn', 'B Knight', 'B Bishop', 'B Rook', 'B Queen', 'B King']\n",
    "\n",
    "fig, ax = plt.subplots(figsize=(12,12))\n",
    "sns.heatmap(c_matrix/c_matrix.sum(axis=1), \n",
    "            ax=ax, annot=True, cmap='Blues', fmt='.2%',\n",
    "            xticklabels=piece_labels, yticklabels=piece_labels)"
   ]
  }
 ],
 "metadata": {
  "kernelspec": {
   "display_name": "Python 3",
   "language": "python",
   "name": "python3"
  },
  "language_info": {
   "codemirror_mode": {
    "name": "ipython",
    "version": 3
   },
   "file_extension": ".py",
   "mimetype": "text/x-python",
   "name": "python",
   "nbconvert_exporter": "python",
   "pygments_lexer": "ipython3",
   "version": "3.8.5"
  }
 },
 "nbformat": 4,
 "nbformat_minor": 4
}
